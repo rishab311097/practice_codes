{
 "cells": [
  {
   "cell_type": "markdown",
   "metadata": {},
   "source": [
    "## Q4 (Question_set_4)"
   ]
  },
  {
   "cell_type": "code",
   "execution_count": 56,
   "metadata": {
    "scrolled": true
   },
   "outputs": [
    {
     "name": "stdout",
     "output_type": "stream",
     "text": [
      "enter the values for a and b: 0 1\n",
      "Output for all Gates:\n",
      "\n",
      "OR :\t1\n",
      "NOR :\t0\n",
      "AND :\t0\n",
      "NAND :\t1\n",
      "XOR :\t1\n",
      "XNOR :\t0\n"
     ]
    }
   ],
   "source": [
    "# check for binary inputs\n",
    "def check(a,b):\n",
    "    if(a in [1,0] and b in [1,0]):\n",
    "        return True\n",
    "    print('Wrong input value for a and b. Should be either 0 or 1.')\n",
    "    return False\n",
    "\n",
    "# Simulate OR gate\n",
    "def OR(a,b):\n",
    "    if(a==b==1):\n",
    "        return 1\n",
    "    return a+b\n",
    "\n",
    "# Simulate AND gate\n",
    "def AND(a,b):\n",
    "    return a*b\n",
    "\n",
    "# Simulate XOR gate\n",
    "def XOR(a,b):\n",
    "    if(a==b):\n",
    "        return 0\n",
    "    return 1\n",
    "\n",
    "# Simulate NOT gate\n",
    "def NOT(r):\n",
    "    return int(m.fabs(r-1))\n",
    "\n",
    "counter = False\n",
    "while(counter==False):\n",
    "    a,b = map(int,input(\"enter the values for a and b: \").split(' '))\n",
    "    counter = check(a,b)\n",
    "\n",
    "print('Output for all Gates:',end='\\n\\n')\n",
    "print('OR :',OR(a,b),sep='\\t')\n",
    "print('NOR :',NOT(OR(a,b)),sep='\\t')\n",
    "print('AND :',AND(a,b),sep='\\t')\n",
    "print('NAND :',NOT(AND(a,b)),sep='\\t')\n",
    "print('XOR :',XOR(a,b),sep='\\t')\n",
    "print('XNOR :',NOT(XOR(a,b)),sep='\\t')"
   ]
  }
 ],
 "metadata": {
  "kernelspec": {
   "display_name": "Python 3",
   "language": "python",
   "name": "python3"
  },
  "language_info": {
   "codemirror_mode": {
    "name": "ipython",
    "version": 3
   },
   "file_extension": ".py",
   "mimetype": "text/x-python",
   "name": "python",
   "nbconvert_exporter": "python",
   "pygments_lexer": "ipython3",
   "version": "3.8.3"
  }
 },
 "nbformat": 4,
 "nbformat_minor": 4
}
